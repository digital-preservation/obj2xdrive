{
 "cells": [
  {
   "cell_type": "markdown",
   "metadata": {},
   "source": [
    "This code is simple copy file structure"
   ]
  },
  {
   "cell_type": "code",
   "execution_count": null,
   "metadata": {},
   "outputs": [],
   "source": [
    "import pandas as pd\n",
    "import os\n",
    "import shutil"
   ]
  },
  {
   "cell_type": "code",
   "execution_count": null,
   "metadata": {},
   "outputs": [],
   "source": [
    "objective_folder_df = pd.read_csv('objective_files_with_acronyms.csv', sep = ',')"
   ]
  },
  {
   "cell_type": "markdown",
   "metadata": {},
   "source": [
    "Testing on small data set\n"
   ]
  },
  {
   "cell_type": "code",
   "execution_count": null,
   "metadata": {},
   "outputs": [],
   "source": [
    "'''\n",
    "obj_df_10 = objective_folder_df[0:10].copy()\n",
    "#sample files created\n",
    "#print(obj_df_10.head(10))\n",
    "\n",
    "\n",
    "def create_files_in_desktop(source):\n",
    "    \n",
    "    for index, row in obj_df_10.iterrows():\n",
    "        source_path = source\n",
    "        for i in range(11,0,-1):\n",
    "            col_name = 'trim_'+str(i)\n",
    "            if (row[col_name] != 'no name'):\n",
    "                source_path = source_path+row[col_name]+'_t'+'\\\\'\n",
    "        \n",
    "        #print(path_val)\n",
    "        if not os.path.exists(source_path):\n",
    "            os.makedirs(source_path)\n",
    "        \n",
    "        #create the file \n",
    "        file_name = source_path+row['documentname']+'.'+row['fileextension']\n",
    "        f= open(file_name,\"w+\")\n",
    "        for i in range(10):\n",
    "            f.write(\"This is line %d\\r\\n\" % (i+1))\n",
    "        f.close() \n",
    "        \n",
    "#source = input('Source:') \n",
    "\n",
    "#create_files_in_desktop(source)\n",
    "\n",
    "def create_files_in_xdrive1(source, destination):\n",
    "    \n",
    "    for index, row in obj_df_10.iterrows():\n",
    "        source_path = source+'\\\\'\n",
    "        dest_path = destination+'\\\\'\n",
    "        \n",
    "        for i in range(11,0,-1):\n",
    "            dest_col_name = 'trim_'+str(i)\n",
    "            source_col_name = 'trim_'+str(i)\n",
    "            if (row[dest_col_name] != 'no name'):\n",
    "                source_path = source_path+row[source_col_name]+'_t'+'\\\\'\n",
    "                dest_path = dest_path+row[dest_col_name]+'\\\\'\n",
    "        \n",
    "        source_file_name = source_path+row['documentname']+'.'+row['fileextension']\n",
    "        \n",
    "        # adding exception handling\n",
    "        \n",
    "        # create the folders if not already exists\n",
    "        if not os.path.exists(dest_path):\n",
    "            os.makedirs(dest_path)\n",
    "\n",
    "        # adding exception handling\n",
    "        try:\n",
    "            shutil.copy(source_file_name, dest_path)\n",
    "        except IOError as e:\n",
    "            print(\"Unable to copy file. %s\" % e)\n",
    "        except:\n",
    "            print(\"Unexpected error:\", sys.exc_info())\n",
    "            \n",
    "source = input('Enter source root folder:')#'/home/santhilata/Desktop/'    \n",
    "destination = input('Enter destination root folder:') #'/home/santhilata/Documents/'    \n",
    "print('Given source path (top folder):- ', source)\n",
    "print('Given destination path (top folder):- ', destination)\n",
    "create_files_in_xdrive1(source, destination)\n",
    "'''"
   ]
  },
  {
   "cell_type": "code",
   "execution_count": null,
   "metadata": {},
   "outputs": [],
   "source": [
    "def create_files_to_xdrive(source, destination):\n",
    "    \n",
    "    for index, row in objective_folder_df.iterrows():\n",
    "        source_path = source+'\\\\'\n",
    "        dest_path = destination+'\\\\'\n",
    "        \n",
    "        for i in range(11,0,-1):\n",
    "            dest_col_name = 'trim_'+str(i)\n",
    "            source_col_name = 'parent'+str(i)\n",
    "            if (row[dest_col_name] != 'no name'):\n",
    "                source_path = source_path+row[source_col_name]+'\\\\'\n",
    "                dest_path = dest_path+row[dest_col_name]+'\\\\'\n",
    "        \n",
    "        source_file_name = source_path+row['documentname']+'.'+row['fileextension']\n",
    "        \n",
    "        # adding exception handling\n",
    "        \n",
    "        # create the folders if not already exists\n",
    "        if not os.path.exists(dest_path):\n",
    "            os.makedirs(dest_path)\n",
    "\n",
    "        # adding exception handling\n",
    "        try:\n",
    "            print('Copying ',source_file_name,' to ',dest_path)\n",
    "            shutil.copy(source_file_name, dest_path)\n",
    "        except IOError as e:\n",
    "            print(\"Unable to copy file. %s\" % e)\n",
    "        except:\n",
    "            print(\"Unexpected error: \", sys.exc_info())\n",
    "            \n",
    "    input('Transfer Complete. press ANY KEY to close ')"
   ]
  },
  {
   "cell_type": "code",
   "execution_count": null,
   "metadata": {},
   "outputs": [],
   "source": [
    "source = input('Enter source top folder: ') \n",
    "destination = input('Enter destination top folder: ') \n",
    "print('Given source path (top folder):- ', source)\n",
    "print('Given destination path (top folder):- ', destination)\n",
    "\n",
    "create_files_to_xdrive(source, destination)\n",
    "#closeexe = input('Transfer Complete. press ANY KEY to close ')\n"
   ]
  },
  {
   "cell_type": "code",
   "execution_count": null,
   "metadata": {},
   "outputs": [],
   "source": []
  }
 ],
 "metadata": {
  "kernelspec": {
   "display_name": "Python 3",
   "language": "python",
   "name": "python3"
  },
  "language_info": {
   "codemirror_mode": {
    "name": "ipython",
    "version": 3
   },
   "file_extension": ".py",
   "mimetype": "text/x-python",
   "name": "python",
   "nbconvert_exporter": "python",
   "pygments_lexer": "ipython3",
   "version": "3.7.4"
  }
 },
 "nbformat": 4,
 "nbformat_minor": 2
}
