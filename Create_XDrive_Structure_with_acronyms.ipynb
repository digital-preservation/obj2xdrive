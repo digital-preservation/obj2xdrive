{
 "cells": [
  {
   "cell_type": "markdown",
   "metadata": {},
   "source": [
    "Author: Santhilata KV"
   ]
  },
  {
   "cell_type": "markdown",
   "metadata": {},
   "source": [
    "**This code sheet is to create folder structure on windows. Transfering data from objective to x_drive**"
   ]
  },
  {
   "cell_type": "code",
   "execution_count": null,
   "metadata": {},
   "outputs": [],
   "source": [
    "import pandas as pd\n",
    "import numpy as np\n",
    "\n",
    "import os\n",
    "import string\n",
    "import re\n",
    "\n",
    "import csv"
   ]
  },
  {
   "cell_type": "code",
   "execution_count": null,
   "metadata": {},
   "outputs": [],
   "source": [
    "#Datasheet_path = '/home/santhilata/Dropbox/AI_for_Selection/Code/X_drive_categories_paul.csv'\n",
    "#objective_data_sheet_path = '/home/santhilata/Dropbox/AI_for_Selection/Code/Copy of Prepare folders docs for research_DATE.xlsx'\n",
    "objective_data_sheet_path = input('Input data sheet : ')"
   ]
  },
  {
   "cell_type": "code",
   "execution_count": null,
   "metadata": {},
   "outputs": [],
   "source": [
    "obj_df = pd.read_excel(open(objective_data_sheet_path,'rb'),sheet_name='data')"
   ]
  },
  {
   "cell_type": "code",
   "execution_count": null,
   "metadata": {},
   "outputs": [],
   "source": [
    "obj_df.columns"
   ]
  },
  {
   "cell_type": "code",
   "execution_count": null,
   "metadata": {},
   "outputs": [],
   "source": [
    "obj_df = obj_df.drop(['trimparent11', 'trimparent10',\n",
    "       'trimparent9', 'trimparent8', 'trimparent7', 'trimparent6',\n",
    "       'trimparent5', 'trimparent4', 'trimparent3', 'trimparent2',\n",
    "       'trimparent1', 'trimdocumentname', 'fullpathcalculated',\n",
    "       'fullpathcalculatedincdocument', 'pathlength'], axis=1)"
   ]
  },
  {
   "cell_type": "code",
   "execution_count": null,
   "metadata": {},
   "outputs": [],
   "source": [
    "obj_df.columns"
   ]
  },
  {
   "cell_type": "code",
   "execution_count": null,
   "metadata": {},
   "outputs": [],
   "source": [
    "obj_df = obj_df.fillna(value='no name', axis=0)"
   ]
  },
  {
   "cell_type": "code",
   "execution_count": null,
   "metadata": {},
   "outputs": [],
   "source": [
    "folder_dict = {} # create a dictionary to store real and trimmed folder names \n",
    "\n",
    "#Actually the following is not necessary\n",
    "def check_splcharacter(ch): \n",
    "  \n",
    "    # Make an RE character set and pass  \n",
    "    # this as an argument in compile function\n",
    " \n",
    "    string_check= re.compile('[@_!#$%^&*()<>?/\\|}{~:]') \n",
    "      \n",
    "    # Pass the string in search function  \n",
    "    # of RE object (string_check).\n",
    "     \n",
    "    if(string_check.search(ch) == None): \n",
    "        return False\n",
    "          \n",
    "    else: \n",
    "        return True\n",
    "\n",
    "#print(check_splcharacter('1'))\n",
    "\n",
    "\n",
    "# function to get the trimmed name from the original folder name\n",
    "def trim_fn_name_space(folderName):\n",
    "     \n",
    "    acronym = ''\n",
    "    if folderName not in folder_dict.keys():\n",
    "        \n",
    "        print(folderName,' ',)\n",
    "        if folderName =='no name':\n",
    "            acronym = 'no name'\n",
    "            \n",
    "        else:\n",
    "            if (check_splcharacter(folderName[0])):\n",
    "                acronym = '_'\n",
    "            else:\n",
    "                acronym = folderName[0]\n",
    "            \n",
    "            char_counter = 1\n",
    "            for ch in folderName[1:]:\n",
    "                \n",
    "                    \n",
    "                if (ch == ' ') & (char_counter < len(folderName)) :\n",
    "                    if (folderName[char_counter+1] in string.ascii_lowercase)  :\n",
    "                        if (check_splcharacter(folderName[char_counter+1])):\n",
    "                            acronym = acronym+ '_'\n",
    "                        else:\n",
    "                            acronym = acronym+folderName[char_counter+1]\n",
    "                    \n",
    "                if (ch in string.ascii_uppercase) |(ch.isdigit() )  :\n",
    "                    if (check_splcharacter(ch)):\n",
    "                        acronym = acronym+'_'\n",
    "                    else:\n",
    "                        acronym = acronym+str(ch) \n",
    "                char_counter += 1\n",
    "       \n",
    "        #The following is to take care of identical acronyms. A number is appended\n",
    "        #Assumption: No more than 99 files may have same acronyms\n",
    "        while (acronym  in folder_dict.values()):\n",
    "            \n",
    "            if (acronym[-1] in string.digits) and (acronym[-2] == '_'):\n",
    "                new_val = int(acronym[-1])+1\n",
    "                acronym = acronym[:-1]+str(new_val)\n",
    "        \n",
    "            elif (acronym[-1] in string.digits)and (acronym[-2] in string.digits) and (acronym[-3] == '_'):\n",
    "                \n",
    "                new_val = 10*int(acronym[-2])+int(acronym[-1])+1\n",
    "                acronym = acronym[:-2]+str(new_val)\n",
    "            else:\n",
    "                acronym = acronym+'_1'\n",
    "    \n",
    "        print(acronym)        \n",
    "        folder_dict[folderName] = acronym\n",
    "        \n",
    "    return folder_dict[folderName]"
   ]
  },
  {
   "cell_type": "code",
   "execution_count": null,
   "metadata": {},
   "outputs": [],
   "source": [
    "# now create new trimmed columns\n",
    "\n",
    "for i in range(11,0,-1):\n",
    "    \n",
    "    obj_df['trim_'+str(i)] = obj_df['parent'+str(i)].apply(lambda x: trim_fn_name_space(str(x)))"
   ]
  },
  {
   "cell_type": "code",
   "execution_count": null,
   "metadata": {},
   "outputs": [],
   "source": [
    "# Write all acronyms from dictionary to csv\n",
    "import csv\n",
    "csv_columns = ['Folder name','Acronym']\n",
    "csv_file = \"folders_acronyms.csv\"\n",
    "try:\n",
    "    with open(csv_file, 'w') as csvfile:\n",
    "        writer = csv.DictWriter(csvfile, fieldnames=csv_columns)\n",
    "        writer.writeheader()\n",
    "        for key in folder_dict.keys():\n",
    "            writer.writerow({'Folder name': key,'Acronym':folder_dict[key]})\n",
    "except IOError:\n",
    "    print(\"I/O error\") "
   ]
  },
  {
   "cell_type": "code",
   "execution_count": null,
   "metadata": {},
   "outputs": [],
   "source": [
    "#Write obj_df to csv\n",
    "obj_df.to_csv('objective_files_with_acronyms.csv',sep=',')"
   ]
  },
  {
   "cell_type": "code",
   "execution_count": null,
   "metadata": {},
   "outputs": [],
   "source": [
    "obj_df.columns"
   ]
  },
  {
   "cell_type": "code",
   "execution_count": null,
   "metadata": {},
   "outputs": [],
   "source": [
    "#test assert\n",
    "s = set( val for val in folder_dict.values())\n",
    "print(len(s))"
   ]
  },
  {
   "cell_type": "code",
   "execution_count": null,
   "metadata": {},
   "outputs": [],
   "source": []
  }
 ],
 "metadata": {
  "kernelspec": {
   "display_name": "Python 3",
   "language": "python",
   "name": "python3"
  },
  "language_info": {
   "codemirror_mode": {
    "name": "ipython",
    "version": 3
   },
   "file_extension": ".py",
   "mimetype": "text/x-python",
   "name": "python",
   "nbconvert_exporter": "python",
   "pygments_lexer": "ipython3",
   "version": "3.7.4"
  }
 },
 "nbformat": 4,
 "nbformat_minor": 2
}
